{
 "cells": [
  {
   "cell_type": "markdown",
   "metadata": {},
   "source": [
    "# Interactive Plot_v2\n",
    "Interactive plot to model Covid-19 in Indonesia. This repository is part of Covid-19 Modelling Project by [Department of Electrical and Information Engineering Universitas Gadjah Mada](http://jteti.ugm.ac.id/index.php?ver=YQ%3D%3D=). Interactive site using Voilà can be used using (need one to five minutes to load the plot):"
   ]
  },
  {
   "cell_type": "markdown",
   "metadata": {},
   "source": [
    "[![Binder](https://mybinder.org/badge_logo.svg)](https://mybinder.org/v2/gh/yasirroni/Indonesia-Covid-Model/)"
   ]
  },
  {
   "cell_type": "code",
   "execution_count": 1,
   "metadata": {},
   "outputs": [],
   "source": [
    "from IPython.display import display\n",
    "from scipy.integrate import odeint\n",
    "from datetime import datetime as dt\n",
    "\n",
    "import ipywidgets as widgets\n",
    "import numpy as np\n",
    "import bqplot as bq\n",
    "import pandas as pd\n",
    "import itertools\n",
    "import threading\n",
    "import time"
   ]
  },
  {
   "cell_type": "markdown",
   "metadata": {},
   "source": [
    "## Master setting\n",
    "Edit this part if you want to run your own model. Otherwise, skip. For formating:  \n",
    "\n",
    "1. compartments: `{'name1': [initial_value1], 'name2': [initial_value2], ...}`\n",
    "2. variables: `{'name1': [value1, step1], 'name2': [value2, step2], ...}`\n",
    "3. ode:\n",
    "4. t: `['yyyy-mm-dd']`"
   ]
  },
  {
   "cell_type": "code",
   "execution_count": 2,
   "metadata": {},
   "outputs": [
    {
     "data": {
      "application/vnd.jupyter.widget-view+json": {
       "model_id": "2b4841dfa1bb426fad379d67d16d67c5",
       "version_major": 2,
       "version_minor": 0
      },
      "text/plain": [
       "Textarea(value=\"{'S':[100], 'I':[1], 'R':[1], 'D':[1]}\", description='compartments:', layout=Layout(width='100…"
      ]
     },
     "metadata": {},
     "output_type": "display_data"
    }
   ],
   "source": [
    "master_compartments = widgets.Textarea(\n",
    "    value = \"{'S':[100], 'I':[1], 'R':[1], 'D':[1]}\",\n",
    "    placeholder = 'Type something',\n",
    "    description = 'compartments:',\n",
    "    disabled = False,\n",
    "    layout = widgets.Layout(\n",
    "        width = '100%',\n",
    "    ),\n",
    "    style = {\n",
    "        'description_width': 'initial'\n",
    "    }\n",
    ")\n",
    "display(master_compartments)"
   ]
  },
  {
   "cell_type": "code",
   "execution_count": 3,
   "metadata": {},
   "outputs": [
    {
     "data": {
      "application/vnd.jupyter.widget-view+json": {
       "model_id": "72b21538d09f473eb7650a910b8c126d",
       "version_major": 2,
       "version_minor": 0
      },
      "text/plain": [
       "Textarea(value=\"{'beta':[100, 0.00001], 'gamma':[1, 0.00001], 'mu':[1, 0.00001]}\", description='variables :', …"
      ]
     },
     "metadata": {},
     "output_type": "display_data"
    }
   ],
   "source": [
    "master_variables = widgets.Textarea(\n",
    "    value = \"{'beta':[100, 0.00001], 'gamma':[1, 0.00001], 'mu':[1, 0.00001]}\",\n",
    "    placeholder = 'Type something',\n",
    "    description = 'variables :',\n",
    "    disabled = False,\n",
    "    layout = widgets.Layout(\n",
    "        width = '100%',\n",
    "    ),\n",
    "    style = {\n",
    "        'description_width': 'initial'\n",
    "    }\n",
    ")\n",
    "display(master_variables)"
   ]
  },
  {
   "cell_type": "code",
   "execution_count": 4,
   "metadata": {},
   "outputs": [
    {
     "data": {
      "application/vnd.jupyter.widget-view+json": {
       "model_id": "b9647edc1a114332addb133933d227ab",
       "version_major": 2,
       "version_minor": 0
      },
      "text/plain": [
       "Textarea(value=\"['2020-01-31']\", description='t:', layout=Layout(width='100%'), placeholder='Type something', …"
      ]
     },
     "metadata": {},
     "output_type": "display_data"
    }
   ],
   "source": [
    "master_t = widgets.Textarea(\n",
    "    value = \"['2020-01-31']\",\n",
    "    placeholder = 'Type something',\n",
    "    description = 't:',\n",
    "    disabled = False,\n",
    "    layout = widgets.Layout(\n",
    "        width = '100%',\n",
    "    ),\n",
    "    style = {\n",
    "        'description_width': 'initial'\n",
    "    }\n",
    ")\n",
    "display(master_t)"
   ]
  },
  {
   "cell_type": "markdown",
   "metadata": {},
   "source": [
    "## App"
   ]
  },
  {
   "cell_type": "code",
   "execution_count": 5,
   "metadata": {},
   "outputs": [],
   "source": [
    "# input layout\n",
    "layout_date = widgets.Layout(\n",
    "    width = '250px'\n",
    ") \n",
    "\n",
    "layout_inttext = widgets.Layout(\n",
    "    width = '150px'\n",
    ") \n",
    "\n",
    "# button layout\n",
    "layout_button = widgets.Layout(\n",
    "    width = '120px'\n",
    ")"
   ]
  },
  {
   "cell_type": "code",
   "execution_count": 6,
   "metadata": {},
   "outputs": [],
   "source": [
    "# init data to plot (dummy)\n",
    "def init(t=['2020-01-01'], compartments = {'S':[100], 'I':[1], 'R':[1], 'D':[1]}):\n",
    "    return [pd.Timestamp(t[0])], compartments\n",
    "t, compartments = init(t=eval(master_t.value), compartments=eval(master_compartments.value))"
   ]
  },
  {
   "cell_type": "code",
   "execution_count": 7,
   "metadata": {},
   "outputs": [],
   "source": [
    "def get_labels(compartments):\n",
    "    return [i for i in compartments]"
   ]
  },
  {
   "cell_type": "code",
   "execution_count": 8,
   "metadata": {},
   "outputs": [],
   "source": [
    "def get_y_lines(compartments):\n",
    "    return [i for _,i in compartments.items()]"
   ]
  },
  {
   "cell_type": "code",
   "execution_count": 9,
   "metadata": {},
   "outputs": [],
   "source": [
    "def get_labels_and_y_lines(compartments):\n",
    "    labels = []\n",
    "    y_lines = []\n",
    "    for key, value in compartments.items():\n",
    "        labels.append(key)\n",
    "        y_lines.append(value)\n",
    "    return labels, y_lines\n",
    "labels, y_lines = get_labels_and_y_lines(compartments)"
   ]
  },
  {
   "cell_type": "code",
   "execution_count": 10,
   "metadata": {},
   "outputs": [],
   "source": [
    "def get_color(number):\n",
    "    '''Based on category20 in https://github.com/d3/d3-3.x-api-reference/blob/master/Ordinal-Scales.md#categorical-colors'''\n",
    "    color_list = [\n",
    "        '#1f77b4','#ff7f0e','#2ca02c','#d62728','#ff9896','#c5b0d5','#c49c94','#f7b6d2','#bcbd22','#17becf','#aec7e8','#ffbb78','#98df8a','#9467bd','#8c564b','#e377c2','#7f7f7f','#c7c7c7','#dbdb8d','#9edae5',\n",
    "    ]\n",
    "    \n",
    "    if number < len(color_list):\n",
    "        return color_list[0:number]\n",
    "    else:\n",
    "        quotient, remainder = divmod(number, len(color_list))\n",
    "        quotient = color_list*quotient\n",
    "        remainder = color_list[0:remainder]\n",
    "        return [*quotient, *remainder]\n",
    "colors = get_color(len(labels))"
   ]
  },
  {
   "cell_type": "code",
   "execution_count": 11,
   "metadata": {},
   "outputs": [],
   "source": [
    "# layout_figure\n",
    "layout_figure = widgets.Layout(width='500px', height='310px')"
   ]
  },
  {
   "cell_type": "code",
   "execution_count": 12,
   "metadata": {},
   "outputs": [],
   "source": [
    "# output_widget\n",
    "output_widget = widgets.Output()"
   ]
  },
  {
   "cell_type": "code",
   "execution_count": 13,
   "metadata": {},
   "outputs": [],
   "source": [
    "# x_axis\n",
    "x_sc = bq.DateScale()\n",
    "x_ax = bq.Axis(\n",
    "    label = 't',\n",
    "    scale = x_sc\n",
    ")"
   ]
  },
  {
   "cell_type": "code",
   "execution_count": 14,
   "metadata": {},
   "outputs": [],
   "source": [
    "# y_lin\n",
    "y_sc_lin = bq.LinearScale()\n",
    "y_ax_lin = bq.Axis(\n",
    "    label = 'y(t)',\n",
    "    scale = y_sc_lin,\n",
    "    orientation = 'vertical'\n",
    ")\n",
    "lines_lin = bq.Lines(\n",
    "    x = t,\n",
    "    y = y_lines,\n",
    "    colors = colors,\n",
    "    labels = labels,\n",
    "    display_legend = True,\n",
    "    scales = {\n",
    "        'x': x_sc,'y': y_sc_lin\n",
    "    }\n",
    ")\n",
    "scatter_lin = bq.Scatter(\n",
    "    x = t*len(labels),\n",
    "    y = list(itertools.chain.from_iterable(y_lines)),\n",
    "    colors = ['#ff77ff00'],\n",
    "    stroke_width = 1,\n",
    "    display_legend = False,\n",
    "    scales = {\n",
    "        'x': x_sc,\n",
    "        'y': y_sc_lin\n",
    "    }, \n",
    "    tooltip = output_widget\n",
    ")"
   ]
  },
  {
   "cell_type": "code",
   "execution_count": 15,
   "metadata": {},
   "outputs": [],
   "source": [
    "fig_lin = bq.Figure(\n",
    "    layout = layout_figure,\n",
    "    axes = [x_ax, y_ax_lin],\n",
    "    marks = [lines_lin, scatter_lin],\n",
    "    fig_margin = dict(top=10, bottom=40, left=50, right=10),\n",
    "    background_style = {'fill': 'white'}\n",
    ")"
   ]
  },
  {
   "cell_type": "code",
   "execution_count": 16,
   "metadata": {},
   "outputs": [],
   "source": [
    "# clear saved_points button\n",
    "button_clear_saved_points = widgets.Button(\n",
    "    description = 'CLEAR',\n",
    "    button_style = '',\n",
    "    layout = layout_button,\n",
    "    disabled = True,\n",
    ")\n",
    "\n",
    "def button_clear_saved_points_click(_):\n",
    "    global saved_points_list\n",
    "    button_clear_saved_points.button_style = ''\n",
    "    button_clear_saved_points.disabled = True\n",
    "    saved_points_list = []\n",
    "    saved_points.children = (*saved_points_list,)\n",
    "\n",
    "button_clear_saved_points.on_click(button_clear_saved_points_click)\n",
    "\n",
    "# saved_points\n",
    "saved_points_list = []\n",
    "saved_points = widgets.VBox(\n",
    "    children = (*saved_points_list,)\n",
    ")\n",
    "\n",
    "# saved_points label\n",
    "label_saved_points = widgets.Label(\n",
    "    value = \"Click plot to save point\",\n",
    ")\n",
    "\n",
    "# saved_points wrapper\n",
    "saved_points_wrapper = widgets.VBox(\n",
    "    children = (label_saved_points, saved_points, button_clear_saved_points)\n",
    ")"
   ]
  },
  {
   "cell_type": "code",
   "execution_count": 17,
   "metadata": {},
   "outputs": [
    {
     "data": {
      "application/vnd.jupyter.widget-view+json": {
       "model_id": "98a1cf5af0f7442d9309224c4393b173",
       "version_major": 2,
       "version_minor": 0
      },
      "text/plain": [
       "HBox(children=(Figure(axes=[Axis(label='t', scale=DateScale()), Axis(label='y(t)', orientation='vertical', sca…"
      ]
     },
     "metadata": {},
     "output_type": "display_data"
    }
   ],
   "source": [
    "# box_plot\n",
    "box_plot = widgets.HBox(\n",
    "    children = (fig_lin,saved_points_wrapper)\n",
    ")\n",
    "display(box_plot)"
   ]
  },
  {
   "cell_type": "code",
   "execution_count": 18,
   "metadata": {},
   "outputs": [
    {
     "data": {
      "application/vnd.jupyter.widget-view+json": {
       "model_id": "8b81e84ed8f14619aea3058692ee5e71",
       "version_major": 2,
       "version_minor": 0
      },
      "text/plain": [
       "HBox(children=(HBox(children=(Checkbox(value=True, description='S', indent=False), Checkbox(value=True, descri…"
      ]
     },
     "metadata": {},
     "output_type": "display_data"
    }
   ],
   "source": [
    "def make_checkbox(labels = ['S', 'I', 'R', 'D']):\n",
    "    checkboxes = []\n",
    "    for label in labels:\n",
    "        checkboxes.append(\n",
    "            widgets.Checkbox(\n",
    "                value=True,\n",
    "                description=label,\n",
    "                indent=False\n",
    "            )\n",
    "        )\n",
    "    return tuple(checkboxes)\n",
    "\n",
    "# checkbox_compartment\n",
    "checkbox_compartment = make_checkbox(labels)\n",
    "\n",
    "# checkbox_plot\n",
    "checkbox_plot = make_checkbox(['Linear Scale', 'Log Scale'])\n",
    "\n",
    "# checkboxes\n",
    "checkboxes = widgets.HBox(\n",
    "    children = (\n",
    "        widgets.HBox(\n",
    "            children = (*checkbox_compartment,)\n",
    "        ),\n",
    "        widgets.HBox(\n",
    "            children = (*checkbox_plot,)\n",
    "        )\n",
    "    )\n",
    ")\n",
    "display(checkboxes)"
   ]
  },
  {
   "cell_type": "code",
   "execution_count": 19,
   "metadata": {},
   "outputs": [],
   "source": [
    "# y_log\n",
    "y_sc_log = bq.LogScale()\n",
    "y_ax_log = bq.Axis(\n",
    "    label = 'y(t)',\n",
    "    scale = y_sc_log,\n",
    "    orientation = 'vertical'\n",
    ")\n",
    "lines_log = bq.Lines(\n",
    "    x = t,\n",
    "    y = y_lines,\n",
    "    colors = colors,\n",
    "    labels = labels,\n",
    "    display_legend = True,\n",
    "    scales = {\n",
    "        'x': x_sc,'y': y_sc_log\n",
    "    }\n",
    ")\n",
    "scatter_log = bq.Scatter(\n",
    "    x = t*len(labels),\n",
    "    y = list(itertools.chain.from_iterable(y_lines)),\n",
    "    colors = ['#ff77ff00'],\n",
    "    stroke_width = 1,\n",
    "    display_legend = False,\n",
    "    scales = {\n",
    "        'x': x_sc,'y': y_sc_log\n",
    "    }, \n",
    "    tooltip = output_widget\n",
    ")"
   ]
  },
  {
   "cell_type": "code",
   "execution_count": 20,
   "metadata": {},
   "outputs": [],
   "source": [
    "fig_log = bq.Figure(\n",
    "    layout = layout_figure,\n",
    "    axes = [x_ax, y_ax_log],\n",
    "    marks = [lines_log, scatter_log],\n",
    "    fig_margin = dict(top=10, bottom=40, left=50, right=10),\n",
    "    background_style = {'fill': 'white'}\n",
    ")"
   ]
  },
  {
   "cell_type": "code",
   "execution_count": 21,
   "metadata": {},
   "outputs": [],
   "source": [
    "# {'S':[100], 'I':[1], 'R':[1], 'D':[1]}"
   ]
  },
  {
   "cell_type": "code",
   "execution_count": 22,
   "metadata": {},
   "outputs": [],
   "source": [
    "def make_inttext(compartments = {'S':[100], 'I':[1], 'R':[1], 'D':[1]}):\n",
    "    inputs = []\n",
    "    for key, value in compartments.items():\n",
    "        inputs.append(\n",
    "            widgets.IntText(\n",
    "                value = value[0],\n",
    "                description = key + ' initial:',\n",
    "                layout = layout_inttext,\n",
    "                style = {\n",
    "                    'description_width': 'initial'\n",
    "                }\n",
    "            )\n",
    "        )    \n",
    "    return tuple(inputs)"
   ]
  },
  {
   "cell_type": "code",
   "execution_count": 23,
   "metadata": {},
   "outputs": [
    {
     "data": {
      "application/vnd.jupyter.widget-view+json": {
       "model_id": "c77e903bf846442fae0c440c2989ca16",
       "version_major": 2,
       "version_minor": 0
      },
      "text/plain": [
       "HBox(children=(DatePicker(value=Timestamp('2020-01-31 00:00:00'), description='Start Date:', layout=Layout(wid…"
      ]
     },
     "metadata": {},
     "output_type": "display_data"
    }
   ],
   "source": [
    "# initial date\n",
    "date_initial = widgets.DatePicker(\n",
    "    description = 'Start Date:',\n",
    "    disabled = False,\n",
    "    value = t[0],\n",
    "    layout = layout_date,\n",
    "    style = {\n",
    "        'description_width': 'initial'\n",
    "    }\n",
    ")\n",
    "\n",
    "inttext_compartments = make_inttext(eval(master_compartments.value))\n",
    "\n",
    "# checkboxes\n",
    "initial = widgets.HBox(\n",
    "    children = (date_initial, *inttext_compartments,)\n",
    ")\n",
    "display(initial)"
   ]
  },
  {
   "cell_type": "code",
   "execution_count": 24,
   "metadata": {},
   "outputs": [
    {
     "data": {
      "application/vnd.jupyter.widget-view+json": {
       "model_id": "2ba0834955dc4cc4975e46bc260b16b5",
       "version_major": 2,
       "version_minor": 0
      },
      "text/plain": [
       "DatePicker(value=Timestamp('2020-01-31 00:00:00'), description='Start Date:', layout=Layout(width='250px'), st…"
      ]
     },
     "metadata": {},
     "output_type": "display_data"
    }
   ],
   "source": [
    "initial.children[0]"
   ]
  },
  {
   "cell_type": "code",
   "execution_count": 25,
   "metadata": {},
   "outputs": [],
   "source": [
    "# # initial button\n",
    "# button_initial = widgets.Button(\n",
    "#     description = 'ENTER',\n",
    "#     button_style = 'primary',\n",
    "#     layout = layout_button\n",
    "# )\n",
    "\n",
    "# def button_initial_click(_):\n",
    "#     global flag_init_input\n",
    "#     flag_init_input = True\n",
    "\n",
    "# button_initial.on_click(button_initial_click)\n",
    "\n",
    "# # initial wrapper\n",
    "# initials = widgets.VBox(\n",
    "#     children = (initial_date, S_init, I_init, R_init, D_init, button_initial),\n",
    "# )"
   ]
  },
  {
   "cell_type": "code",
   "execution_count": 26,
   "metadata": {},
   "outputs": [],
   "source": [
    "def make_floattext(variables = {'beta':[100, 0.00001], 'gamma':[1, 0.00001], 'mu':[1, 0.00001]}):\n",
    "    inputs = []\n",
    "    for key, value in variables.items():\n",
    "        inputs.append(\n",
    "            widgets.FloatText(\n",
    "                value = value[0],\n",
    "                step = value[1],\n",
    "                description = key + ':',\n",
    "                layout = layout_inttext,\n",
    "                style = {\n",
    "                    'description_width': 'initial'\n",
    "                }\n",
    "            )\n",
    "        )    \n",
    "    return tuple(inputs)"
   ]
  },
  {
   "cell_type": "code",
   "execution_count": 27,
   "metadata": {},
   "outputs": [
    {
     "data": {
      "application/vnd.jupyter.widget-view+json": {
       "model_id": "63a435cf523141ceb51490418c16b460",
       "version_major": 2,
       "version_minor": 0
      },
      "text/plain": [
       "HBox(children=(DatePicker(value=Timestamp('2020-01-31 00:00:00'), description='Checkpoint Date:', layout=Layou…"
      ]
     },
     "metadata": {},
     "output_type": "display_data"
    }
   ],
   "source": [
    "# checkpoint date\n",
    "date_checkpoint = widgets.DatePicker(\n",
    "    description = 'Checkpoint Date:',\n",
    "    disabled = False,\n",
    "    value = t[-1],\n",
    "    layout = layout_date,\n",
    "    style = {\n",
    "    'description_width': 'initial'\n",
    "    }\n",
    ")\n",
    "\n",
    "button_checkpoint = widgets.Button(\n",
    "    description = 'Save Checkpoint',\n",
    "    button_style = 'primary',\n",
    "    layout = layout_button\n",
    ")\n",
    "\n",
    "def button_checkpoint_click(_):\n",
    "    global flag_init_input\n",
    "    flag_init_input = True\n",
    "\n",
    "button_checkpoint.on_click(button_checkpoint_click)\n",
    "\n",
    "floattext_variables = make_floattext(eval(master_variables.value))\n",
    "\n",
    "# checkboxes\n",
    "checkpoint = widgets.HBox(\n",
    "    children = (date_checkpoint, *floattext_variables, button_checkpoint)\n",
    ")\n",
    "display(checkpoint)"
   ]
  },
  {
   "cell_type": "code",
   "execution_count": 28,
   "metadata": {},
   "outputs": [],
   "source": [
    "# stop button\n",
    "button_stop = widgets.Button(\n",
    "    description = 'TURN OFF',\n",
    "    icon = 'fa-toggle-on',\n",
    "    button_style = 'success',\n",
    "    layout = layout_button\n",
    ")\n",
    "\n",
    "def button_stop_click(_):\n",
    "    global flag_on\n",
    "    global thread\n",
    "    if flag_on:\n",
    "        flag_on = False\n",
    "        button_stop.description = 'TURN ON'\n",
    "        button_stop.icon = 'fa-toggle-off'\n",
    "        button_stop.button_style = ''\n",
    "    else:\n",
    "        flag_on = True\n",
    "        button_stop.description = 'TURN OFF'\n",
    "        button_stop.icon = 'fa-toggle-on'\n",
    "        button_stop.button_style = 'success'\n",
    "        \n",
    "        # create thread\n",
    "        thread = threading.Thread(target=work)\n",
    "        thread.name = 'work'\n",
    "        \n",
    "        # start thread\n",
    "        thread.start()\n",
    "\n",
    "button_stop.on_click(button_stop_click)"
   ]
  },
  {
   "cell_type": "code",
   "execution_count": 29,
   "metadata": {},
   "outputs": [],
   "source": [
    "# line_hover\n",
    "out_hover = widgets.Output(\n",
    "    layout = widgets.Layout(\n",
    "        margin = '0px 0px 0px 0px',\n",
    "        padding = '0px 0px 0px 0px',\n",
    "    )\n",
    ")\n",
    "def line_hover(_, hover_event):\n",
    "    global out_hover\n",
    "    out_hover.clear_output()\n",
    "    with out_hover:\n",
    "        print('Date:',dt.fromtimestamp(hover_event['data']['x']/1000).strftime('%d-%b-%Y'))\n",
    "        print('Value:',int(hover_event['data']['y']))"
   ]
  },
  {
   "cell_type": "code",
   "execution_count": 30,
   "metadata": {},
   "outputs": [],
   "source": [
    "# line_click\n",
    "def line_click(_, click_event):\n",
    "    global saved_points_list, t_list, labels\n",
    "    button_clear_saved_points.disabled = False\n",
    "    button_clear_saved_points.button_style = 'warning'\n",
    "    label_index = click_event['data']['index']// len(t_list) \n",
    "    new_saved_point = widgets.Label(\n",
    "        value = f\"{labels[label_index]} Date: {dt.fromtimestamp(click_event['data']['x']/1000).strftime('%d-%b-%Y')} Value: {int(click_event['data']['y'])}\"\n",
    "    )\n",
    "    saved_points_list.append(new_saved_point)\n",
    "    saved_points.children = (*saved_points_list,)"
   ]
  },
  {
   "cell_type": "code",
   "execution_count": 31,
   "metadata": {},
   "outputs": [],
   "source": [
    "scatter_lin.on_hover(line_hover)\n",
    "scatter_lin.on_element_click(line_click)\n",
    "scatter_log.on_hover(line_hover)\n",
    "scatter_log.on_element_click(line_click)"
   ]
  },
  {
   "cell_type": "code",
   "execution_count": 32,
   "metadata": {},
   "outputs": [],
   "source": [
    "# # app_wrapper\n",
    "# app_input = widgets.VBox(\n",
    "#     children = (initials,),\n",
    "# #     layout = widgets.Layout(border = 'solid 2px gray', width='344px')\n",
    "# )\n",
    "\n",
    "# app_modifier = checkpoints\n",
    "# app_screen = widgets.HBox(\n",
    "#     children = (plots, saved_points_wrapper)\n",
    "# )\n",
    "# app_interactive = widgets.HBox(\n",
    "#     children = (app_modifier, app_screen),\n",
    "# #     layout = widgets.Layout(border = 'solid 2px gray', width='878px')\n",
    "# )"
   ]
  },
  {
   "cell_type": "code",
   "execution_count": 33,
   "metadata": {},
   "outputs": [],
   "source": [
    "def func_ode(y, t, beta, gamma, mu):\n",
    "    [S, I, R, D] = y\n",
    "    \n",
    "    N = S + I + R + D\n",
    "    \n",
    "    dSdt = - (beta * S * I / N)\n",
    "    dIdt = (beta * S * I / N) - ((gamma + mu) * I)\n",
    "    dRdt = gamma*I\n",
    "    dDdt = mu*I\n",
    "    \n",
    "    return [dSdt, dIdt, dRdt, dDdt]"
   ]
  },
  {
   "cell_type": "code",
   "execution_count": 34,
   "metadata": {},
   "outputs": [],
   "source": [
    "def work():\n",
    "    global flag_on, flag_init_input\n",
    "    global t_list, S_list, I_list, R_list, D_list, t_list_str\n",
    "    \n",
    "    checkbox_log_prev = checkbox_log.value\n",
    "    checkbox_lin_prev = checkbox_lin.value\n",
    "    prev_val = []\n",
    "\n",
    "    while flag_on:           \n",
    "        # fig_log and fig_lin display\n",
    "        if checkbox_log_prev != checkbox_log.value or checkbox_lin_prev != checkbox_lin.value:\n",
    "            checkbox_log_prev = checkbox_log.value\n",
    "            checkbox_lin_prev = checkbox_lin.value\n",
    "            if checkbox_log.value and checkbox_lin.value:\n",
    "                plots.children = (fig_lin, fig_log, checboxes)\n",
    "            elif checkbox_log.value:\n",
    "                plots.children = (fig_log, checboxes)\n",
    "            elif checkbox_lin.value:\n",
    "                plots.children = (fig_lin, checboxes)\n",
    "            else:\n",
    "                plots.children = (checboxes,)\n",
    "        \n",
    "#         # reset and init\n",
    "#         if flag_init_input:           \n",
    "#             init(str(initial_date.value), S_init.value, I_init.value, R_init.value, D_init.value)\n",
    "#             t_start = initial_date.value\n",
    "#             flag_init_input = False\n",
    "        \n",
    "        # main\n",
    "        if prev_val != [\n",
    "            initial_date.value, S_init.value, I_init.value, R_init.value, D_init.value,\n",
    "            checkpoint_date.value, beta.value, gamma.value, mu.value, \n",
    "            checkbox_S.value, checkbox_I.value, checkbox_R.value, checkbox_D.value\n",
    "            ]:\n",
    "            \n",
    "            prev_val = [\n",
    "                initial_date.value, S_init.value, I_init.value, R_init.value, D_init.value,\n",
    "                checkpoint_date.value, beta.value, gamma.value, mu.value, \n",
    "                checkbox_S.value, checkbox_I.value, checkbox_R.value, checkbox_D.value\n",
    "            ]\n",
    "            \n",
    "            # make t\n",
    "            t_len = int((checkpoint_date.value - initial_date.value).days) + 1 # the \"+ 1\" is to include endpoint\n",
    "            t_new = pd.to_datetime(\n",
    "                np.linspace(\n",
    "                    pd.Timestamp(initial_date.value).value, \n",
    "                    pd.Timestamp(checkpoint_date.value).value, \n",
    "                    t_len,\n",
    "                    endpoint=True\n",
    "                )\n",
    "            )       \n",
    "            t_dummy = np.linspace(1, t_len, t_len)\n",
    "\n",
    "            # make ode\n",
    "            ode_out = odeint(\n",
    "                func_ode,\n",
    "                [S_init.value, I_init.value, R_init.value, D_init.value],\n",
    "                t_dummy,\n",
    "                args=(beta.value, gamma.value, mu.value)\n",
    "            )\n",
    "\n",
    "            # unpack ode_out\n",
    "            S_new = ode_out[:,0]\n",
    "            I_new = ode_out[:,1]\n",
    "            R_new = ode_out[:,2]\n",
    "            D_new = ode_out[:,3]\n",
    "\n",
    "            # save checkpoint\n",
    "\n",
    "            # merge and update plot\n",
    "            t_list = t_new.tolist()\n",
    "            S_list = S_new.tolist()\n",
    "            I_list = I_new.tolist()\n",
    "            R_list = R_new.tolist()\n",
    "            D_list = D_new.tolist()\n",
    "            t_list_str = [str(pd.Timestamp.date(i)) for i in t_list]               \n",
    "\n",
    "            # update plot\n",
    "            y = []\n",
    "            y_scatter = []\n",
    "            labels = []\n",
    "            colors = []\n",
    "            line_num = 0\n",
    "            if checkbox_S.value:\n",
    "                y.append(S_list)\n",
    "                y_scatter.extend(S_list)\n",
    "                labels.append(checkbox_S.description)\n",
    "                colors.append('#2ca02c')\n",
    "                line_num += 1\n",
    "            if checkbox_I.value:\n",
    "                y.append(I_list)\n",
    "                y_scatter.extend(I_list)\n",
    "                labels.append(checkbox_I.description)\n",
    "                colors.append('#ff7f0e')\n",
    "                line_num += 1\n",
    "            if checkbox_R.value:\n",
    "                y.append(R_list)\n",
    "                y_scatter.extend(R_list)\n",
    "                labels.append(checkbox_R.description)\n",
    "                colors.append('#1f77b4')\n",
    "                line_num += 1\n",
    "            if checkbox_D.value:\n",
    "                y.append(D_list)\n",
    "                y_scatter.extend(D_list)\n",
    "                labels.append(checkbox_D.description)\n",
    "                colors.append('#d62728')\n",
    "                line_num += 1\n",
    "\n",
    "            if checkbox_lin:\n",
    "                lines_lin.y = y\n",
    "                lines_lin.labels = labels\n",
    "                lines_lin.x = t_list\n",
    "                lines_lin.colors = colors\n",
    "                scatter_lin.x = t_list * line_num\n",
    "                scatter_lin.y = y_scatter\n",
    "                \n",
    "            if checkbox_log:\n",
    "                lines_log.y = y\n",
    "                lines_log.labels = labels\n",
    "                lines_log.x = t_list\n",
    "                lines_log.colors = colors\n",
    "                scatter_log.x = t_list * line_num\n",
    "                scatter_log.y = y_scatter\n",
    "        time.sleep(0.05)"
   ]
  },
  {
   "cell_type": "code",
   "execution_count": 35,
   "metadata": {},
   "outputs": [],
   "source": [
    "# flag to control loop\n",
    "# flag_on = True\n",
    "# flag_init_input = False\n",
    "# flag_add_checkpoint = False\n",
    "# flag_compute = False"
   ]
  },
  {
   "cell_type": "code",
   "execution_count": 36,
   "metadata": {
    "scrolled": true
   },
   "outputs": [
    {
     "name": "stderr",
     "output_type": "stream",
     "text": [
      "Exception in thread Thread-6:\n",
      "Traceback (most recent call last):\n",
      "  File \"c:\\users\\muham\\appdata\\local\\programs\\python\\python37\\lib\\threading.py\", line 926, in _bootstrap_inner\n",
      "    self.run()\n",
      "  File \"c:\\users\\muham\\appdata\\local\\programs\\python\\python37\\lib\\threading.py\", line 870, in run\n",
      "    self._target(*self._args, **self._kwargs)\n",
      "  File \"<ipython-input-34-791a51ace2be>\", line 5, in work\n",
      "    checkbox_log_prev = checkbox_log.value\n",
      "NameError: name 'checkbox_log' is not defined\n",
      "\n"
     ]
    }
   ],
   "source": [
    "# set the flag to true\n",
    "flag_on = True\n",
    "\n",
    "# create thread\n",
    "thread = threading.Thread(target=work)\n",
    "\n",
    "# start thread\n",
    "thread.start()"
   ]
  },
  {
   "cell_type": "code",
   "execution_count": 37,
   "metadata": {},
   "outputs": [
    {
     "ename": "NameError",
     "evalue": "name 'app_input' is not defined",
     "output_type": "error",
     "traceback": [
      "\u001b[1;31m---------------------------------------------------------------------------\u001b[0m",
      "\u001b[1;31mNameError\u001b[0m                                 Traceback (most recent call last)",
      "\u001b[1;32m<ipython-input-37-4037f377e112>\u001b[0m in \u001b[0;36m<module>\u001b[1;34m\u001b[0m\n\u001b[0;32m      1\u001b[0m \u001b[1;31m# display app_input\u001b[0m\u001b[1;33m\u001b[0m\u001b[1;33m\u001b[0m\u001b[1;33m\u001b[0m\u001b[0m\n\u001b[1;32m----> 2\u001b[1;33m \u001b[0mdisplay\u001b[0m\u001b[1;33m(\u001b[0m\u001b[0mapp_input\u001b[0m\u001b[1;33m)\u001b[0m\u001b[1;33m\u001b[0m\u001b[1;33m\u001b[0m\u001b[0m\n\u001b[0m",
      "\u001b[1;31mNameError\u001b[0m: name 'app_input' is not defined"
     ]
    }
   ],
   "source": [
    "# display app_input\n",
    "display(app_input)"
   ]
  },
  {
   "cell_type": "code",
   "execution_count": null,
   "metadata": {
    "scrolled": true
   },
   "outputs": [],
   "source": [
    "# display app_interactive\n",
    "display(app_interactive)"
   ]
  },
  {
   "cell_type": "code",
   "execution_count": null,
   "metadata": {},
   "outputs": [],
   "source": [
    "button_stop"
   ]
  },
  {
   "cell_type": "code",
   "execution_count": null,
   "metadata": {},
   "outputs": [],
   "source": []
  }
 ],
 "metadata": {
  "kernelspec": {
   "display_name": "Python 3",
   "language": "python",
   "name": "python3"
  },
  "language_info": {
   "codemirror_mode": {
    "name": "ipython",
    "version": 3
   },
   "file_extension": ".py",
   "mimetype": "text/x-python",
   "name": "python",
   "nbconvert_exporter": "python",
   "pygments_lexer": "ipython3",
   "version": "3.7.4"
  }
 },
 "nbformat": 4,
 "nbformat_minor": 4
}
